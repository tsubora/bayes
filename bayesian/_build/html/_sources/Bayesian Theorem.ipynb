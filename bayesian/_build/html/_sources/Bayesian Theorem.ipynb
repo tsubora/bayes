{
 "cells": [
  {
   "cell_type": "markdown",
   "id": "245ae98c-13f6-4fc3-8227-60c2920090a0",
   "metadata": {
    "user_expressions": []
   },
   "source": [
    "# Bayesian Theorem"
   ]
  },
  {
   "cell_type": "markdown",
   "id": "3b082376-de30-4c06-a114-2002fd246fe0",
   "metadata": {},
   "source": [
    "If $E$ and $F$ are two events, where $P(F)\\neq 0$, the Bayes' theorem reads as:  \n",
    "$$P(E|F) = \\frac{P(F|E)P(E)}{P(F)}$$"
   ]
  },
  {
   "cell_type": "markdown",
   "id": "6acb09c2-5709-4e4e-b149-f6ecb234d289",
   "metadata": {},
   "source": [
    "Let's try to discuss how to use/interpret that equation."
   ]
  },
  {
   "cell_type": "markdown",
   "id": "dbc365e0-10a6-4dbd-835c-64b35da1afee",
   "metadata": {
    "user_expressions": []
   },
   "source": [
    "## Swapping conditionals"
   ]
  },
  {
   "cell_type": "markdown",
   "id": "cc7a1667-41bc-4386-8924-0e23795df8b5",
   "metadata": {},
   "source": [
    "One way to thing of the Bayes' theorem is how to find the probability after swapping the event and the condition using the original conditional probability and the probabilities of the event and the condition.  \n",
    "To visualize what's happening, Bayes' theorem allows us to compute the conditional probability $P(E|F)$ on the corresponding branch (that connects $P(F)$ and $P(EF)$) of a probability tree, by using the values from a branch from another tree  where the initial node is $P(E)$:  "
   ]
  },
  {
   "cell_type": "markdown",
   "id": "b5c2abcf-4a45-4cb2-b197-ecbf9eabc032",
   "metadata": {
    "user_expressions": []
   },
   "source": [
    "```{image} ../assets/bayes_trees.png\n",
    ":alt: bayes_tree\n",
    ":width: 500px\n",
    ":align: center\n",
    "```"
   ]
  },
  {
   "cell_type": "markdown",
   "id": "6b4b663c-4659-4ab1-8d0a-c452ffa4c21f",
   "metadata": {
    "user_expressions": []
   },
   "source": [
    "### Example: Medical test"
   ]
  },
  {
   "cell_type": "markdown",
   "id": "9bb7fbfc-02bc-42fb-8712-b87b0898fc48",
   "metadata": {
    "user_expressions": []
   },
   "source": [
    "Assume that there is a disease and 2% of the population has that sickness (I will denote that event by 🤧, and the event that contains healthy people by 🥳).  \n",
    "The developer of a medical test for that disease declares a *false negative* occurs with probability 10% and a *false positive* occurs with a probability 1%. \n",
    "Note that a positive test result means that according to the test result, you are sick.  \n",
    "\n",
    "You take the test, and the result is positive (I will denote the event that contains people with positive result by +  and negative result by -, respectively).  \n",
    "\n",
    "Big question: What's the probability that you have the disease?"
   ]
  },
  {
   "cell_type": "markdown",
   "id": "b453e56a-6d20-459b-90e4-6490b21a39e6",
   "metadata": {
    "user_expressions": []
   },
   "source": [
    "Let's first write down what's given explicitly:  \n",
    "- $P(🤧)=0.02$\n",
    "- $P(\\textrm{false negative})=P(-|🤧)=0.1$\n",
    "- $P(\\textrm{false positive})=P(+|🥳)=0.01$"
   ]
  },
  {
   "cell_type": "markdown",
   "id": "b0ffda36-bad2-4afc-944f-64968a9a09b6",
   "metadata": {
    "user_expressions": []
   },
   "source": [
    "```{dropdown} Note that there are some probabilities that we can compute in a straighforward way:\n",
    "- $P(🥳)=0.98$\n",
    "- $P(\\textrm{true positive})=P(+|🤧)=0.9$\n",
    "- $P(\\textrm{true negative})=P(-|🥳)=0.99$\n",
    "```{warning}\n",
    "Note that $P(+|🤧)+P(-|🤧)=1$ (because the test result of any sick person is either + or -),  \n",
    "but $P(-|🤧)+P(-|🥳)\\neq 1$.\n",
    "```"
   ]
  },
  {
   "cell_type": "markdown",
   "id": "a3f6e51d-9dda-47c8-9b2a-4055d334cceb",
   "metadata": {
    "user_expressions": []
   },
   "source": [
    "So, we can organize all given probabilities by drawing the following probability tree:"
   ]
  },
  {
   "cell_type": "markdown",
   "id": "5a53a4bc-20c3-419d-b8f3-f33045c91b7c",
   "metadata": {
    "user_expressions": []
   },
   "source": [
    "```{image} ../assets/med_test.png\n",
    ":alt: med_test\n",
    ":width: 600px\n",
    ":align: center\n",
    "```"
   ]
  },
  {
   "cell_type": "markdown",
   "id": "30625712-aaf5-480e-ad08-66908c7dcc46",
   "metadata": {
    "user_expressions": []
   },
   "source": [
    "```{dropdown} The probability we're after, namely $P(🤧|+)$, lives on another probability tree.\n",
    "```{image} ../assets/med_test_2.png\n",
    ":alt: med_test\n",
    ":width: 600px\n",
    ":align: center\n",
    "```"
   ]
  },
  {
   "cell_type": "markdown",
   "id": "24126426-93ce-4b6b-9046-01fad43b6acc",
   "metadata": {
    "user_expressions": []
   },
   "source": [
    "Hence by Bayes' theorem:\n",
    "$$ P(🤧|+) = \\frac{P(+|🤧)P(🤧)}{P(+)}=\\frac{P(+|🤧)P(🤧)}{P(+\\textrm{ and }🤧)+P(+\\textrm{ and }🥳)}=\\frac{0.9\\cdot0.02}{0.9\\cdot0.02+0.01\\cdot0.98}=\\frac{0.002}{0.0278}\\approx 64.8\\%$$"
   ]
  },
  {
   "cell_type": "markdown",
   "id": "e0b2e7d9-cb62-46f8-a64d-e2cd887c2880",
   "metadata": {
    "user_expressions": []
   },
   "source": [
    "```{dropdown} Remark\n",
    "When we're computing $P(+)$, we used the fact that 🤧 and 🥳 are exclusive ($🤧🥳=\\emptyset$) and exhaustive  ($🤧\\cup🥳=\\Omega$) events. Hence, we were able to write $P(+)=P(+\\textrm{ and }🤧)+P(+\\textrm{ and }🥳)$.\n",
    "```"
   ]
  },
  {
   "cell_type": "markdown",
   "id": "33d0133d-d9b0-4f0a-98b3-cd0cbd608263",
   "metadata": {
    "user_expressions": []
   },
   "source": [
    "### Biology of twins"
   ]
  },
  {
   "cell_type": "markdown",
   "id": "3312093d-4f97-4f56-b998-888772234a94",
   "metadata": {
    "user_expressions": []
   },
   "source": [
    "Twins can be either monozygotic (developed from a single egg) or dizygotic. It\n",
    "is always the case that monozygotic twins are of the same sex, whereas dizygotic\n",
    "twins can be of opposite sex. Denote monozygotic by $M$ and dizygotic by $D$,\n",
    "and let $B$ stand for boy and $G$ stand for girl, then:"
   ]
  },
  {
   "cell_type": "markdown",
   "id": "45359a83-b669-4f33-9f53-48e9e1d712aa",
   "metadata": {
    "user_expressions": []
   },
   "source": [
    "$$P(GG|M)=P(BB|M)=\\frac{1}{2}, P(GB|M)=P(BG|M)=0$$\n",
    "$$P(GG|D)=P(BB|D)=P(GB|D)=P(BG|D)=\\frac{1}{4}$$"
   ]
  },
  {
   "cell_type": "markdown",
   "id": "3aedd8f1-48c6-4b31-8b73-326a74cc261a",
   "metadata": {
    "user_expressions": []
   },
   "source": [
    "Now, assume that we conduct the following experiment: we sample many\n",
    "twins of the same sex, and discover (by looking for different features) that the\n",
    "probability they are dyzygotic is $p$.  \n",
    "\n",
    "Our question is: What is the proportion of dizygotic twins in the population?"
   ]
  },
  {
   "cell_type": "markdown",
   "id": "0f64d7f7-f0f0-4b7b-b67c-548abd2137e1",
   "metadata": {
    "user_expressions": []
   },
   "source": [
    "$$P(D|\\{GG,BB\\})=p=\\frac{P(\\{GG,BB\\}|D)P(D)}{P(\\{GG,BB\\})}=\\frac{\\frac{1}{2}\\cdot P(D)}{\\frac{1}{2}\\cdot P(D) + \\frac{1}{2}\\cdot (1-P(D))}$$"
   ]
  },
  {
   "cell_type": "markdown",
   "id": "eca83255-3a48-472d-aab3-f9c0f9330576",
   "metadata": {
    "user_expressions": []
   },
   "source": [
    "And solving for $P(D)$ yields:  \n",
    "$$P(D)=\\frac{2p}{1+p}$$"
   ]
  },
  {
   "cell_type": "code",
   "execution_count": null,
   "id": "19a03f13-700f-416c-8e93-45a89d48a8fa",
   "metadata": {},
   "outputs": [],
   "source": []
  }
 ],
 "metadata": {
  "kernelspec": {
   "display_name": "bayes",
   "language": "python",
   "name": "bayes"
  },
  "language_info": {
   "codemirror_mode": {
    "name": "ipython",
    "version": 3
   },
   "file_extension": ".py",
   "mimetype": "text/x-python",
   "name": "python",
   "nbconvert_exporter": "python",
   "pygments_lexer": "ipython3",
   "version": "3.10.12"
  }
 },
 "nbformat": 4,
 "nbformat_minor": 5
}
