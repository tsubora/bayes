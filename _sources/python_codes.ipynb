{
 "cells": [
  {
   "cell_type": "markdown",
   "id": "f1a69ad0-6085-414c-a589-14fb47abe1ae",
   "metadata": {
    "user_expressions": []
   },
   "source": [
    "# Python Codes"
   ]
  },
  {
   "cell_type": "markdown",
   "id": "b424cf3c-aa07-4f57-938a-3ae27c9480b6",
   "metadata": {
    "user_expressions": []
   },
   "source": [
    "Later in this course, we will need to use a statistical software such as `Python` or `R`, as we won't be able to make a lot of computations by hand or we won't be able to recognize or write the probability distribution we're interested in analytically. "
   ]
  },
  {
   "cell_type": "markdown",
   "id": "243f5fc4-65b8-43d2-a247-8355971b70d1",
   "metadata": {
    "tags": [],
    "user_expressions": []
   },
   "source": [
    "You won't need to code a lot, but it won't hurt if you start getting used to `Python` or `R` a bit.  \n",
    "If I do a visualization or do a computation using Python, I'll put the code here."
   ]
  },
  {
   "cell_type": "markdown",
   "id": "90888ed5-b818-455d-99a2-f8e4c5c26ff5",
   "metadata": {
    "tags": [],
    "user_expressions": []
   },
   "source": [
    "## Drawing the histogram of a binomial distribution:"
   ]
  },
  {
   "cell_type": "code",
   "execution_count": 10,
   "id": "11cb8d81-87fa-4bcd-bae0-5d924eebbe14",
   "metadata": {
    "execution": {
     "iopub.execute_input": "2023-09-26T06:37:48.653460Z",
     "iopub.status.busy": "2023-09-26T06:37:48.652800Z",
     "iopub.status.idle": "2023-09-26T06:37:48.872767Z",
     "shell.execute_reply": "2023-09-26T06:37:48.871823Z",
     "shell.execute_reply.started": "2023-09-26T06:37:48.653428Z"
    },
    "tags": [],
    "user_expressions": []
   },
   "outputs": [
    {
     "data": {
      "image/png": "[encoded data removed]",
      "text/plain": [
       "<Figure size 500x400 with 1 Axes>"
      ]
     },
     "metadata": {},
     "output_type": "display_data"
    }
   ],
   "source": [
    "# import the necessary packages to compute and visualize in python\n",
    "import numpy as np\n",
    "import matplotlib.pyplot as plt\n",
    "import seaborn as sns\n",
    "\n",
    "# parameters for the binomial distribution\n",
    "n = 10\n",
    "p = 0.7\n",
    "\n",
    "# generate binomial distribution\n",
    "data = np.random.binomial(n, p, 10000)\n",
    "\n",
    "# plot histogram using seaborn\n",
    "plt.figure(figsize=(5, 4))\n",
    "sns.histplot(data, \n",
    "             bins=np.arange(-0.5, n+1.5, 1), \n",
    "             kde=False, stat='probability', \n",
    "             color='skyblue', \n",
    "             edgecolor='black')\n",
    "\n",
    "# calculate expected value E[X] = np\n",
    "expected_value = n * p\n",
    "\n",
    "# add a triangle and label it by E[X]\n",
    "plt.plot(expected_value, -0.01, marker='^', markersize=10, color='black')\n",
    "plt.text(expected_value, -0.04, '$E[X]$', ha='center', va='center')\n",
    "\n",
    "# cleaning the graph, we don't need the numbers\n",
    "plt.ylim(-0.1, 0.4)  \n",
    "plt.tick_params(left=False, bottom=True, labelleft=False, labelbottom=True)\n",
    "sns.despine(left=True, bottom=False)\n",
    "\n",
    "\n",
    "plt.show()"
   ]
  },
  {
   "cell_type": "markdown",
   "id": "ebe706b6-76ad-4328-8bab-021241b0a2b3",
   "metadata": {
    "execution": {
     "iopub.execute_input": "2023-09-26T06:36:42.203625Z",
     "iopub.status.busy": "2023-09-26T06:36:42.202992Z",
     "iopub.status.idle": "2023-09-26T06:36:42.209743Z",
     "shell.execute_reply": "2023-09-26T06:36:42.208310Z",
     "shell.execute_reply.started": "2023-09-26T06:36:42.203579Z"
    },
    "tags": [],
    "user_expressions": []
   },
   "source": [
    "## How to visualize the expectation of a function"
   ]
  },
  {
   "cell_type": "code",
   "execution_count": 9,
   "id": "fb62b37c-ee0d-4122-b76f-609e7183acdb",
   "metadata": {
    "execution": {
     "iopub.execute_input": "2023-09-26T06:37:44.592497Z",
     "iopub.status.busy": "2023-09-26T06:37:44.592119Z",
     "iopub.status.idle": "2023-09-26T06:37:44.772079Z",
     "shell.execute_reply": "2023-09-26T06:37:44.771313Z",
     "shell.execute_reply.started": "2023-09-26T06:37:44.592469Z"
    },
    "tags": []
   },
   "outputs": [
    {
     "data": {
      "image/png": "[encoded data removed]",
      "text/plain": [
       "<Figure size 1000x400 with 1 Axes>"
      ]
     },
     "metadata": {},
     "output_type": "display_data"
    }
   ],
   "source": [
    "# import the necessary packages to compute and visualize in python\n",
    "import numpy as np\n",
    "import matplotlib.pyplot as plt\n",
    "import seaborn as sns\n",
    "\n",
    "# parameters for the binomial distribution\n",
    "n = 10\n",
    "p = 0.7\n",
    "\n",
    "# generate binomial distribution\n",
    "data = 2*np.random.binomial(n, p, 10000)+1\n",
    "\n",
    "# plot histogram using seaborn\n",
    "plt.figure(figsize=(10, 4))\n",
    "sns.histplot(data, \n",
    "             bins=np.arange(-0.5, 2*n+2.5, 1), \n",
    "             kde=False, stat='probability', \n",
    "             color='skyblue', \n",
    "             edgecolor='black')\n",
    "\n",
    "# calculate expected value E[X] = np\n",
    "expected_value = 2*n * p+1\n",
    "\n",
    "# add a triangle and label it by E[X]\n",
    "plt.plot(expected_value, -0.01, marker='^', markersize=10, color='black')\n",
    "plt.text(expected_value, -0.04, '$E[f(X)] = E[2X+1]$', ha='center', va='center')\n",
    "\n",
    "# cleaning the graph, we don't need the numbers\n",
    "plt.ylim(-0.1, 0.4)  \n",
    "plt.tick_params(left=False, bottom=True, labelleft=False, labelbottom=True)\n",
    "sns.despine(left=True, bottom=False)\n",
    "\n",
    "plt.show()"
   ]
  }
 ],
 "metadata": {
  "kernelspec": {
   "display_name": "Python 3 (ipykernel)",
   "language": "python",
   "name": "python3"
  },
  "language_info": {
   "codemirror_mode": {
    "name": "ipython",
    "version": 3
   },
   "file_extension": ".py",
   "mimetype": "text/x-python",
   "name": "python",
   "nbconvert_exporter": "python",
   "pygments_lexer": "ipython3",
   "version": "3.10.12"
  }
 },
 "nbformat": 4,
 "nbformat_minor": 5
}
