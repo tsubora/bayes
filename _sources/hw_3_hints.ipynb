{
 "cells": [
  {
   "cell_type": "markdown",
   "id": "134c1454-7778-41f5-b89f-02b88098304a",
   "metadata": {},
   "source": [
    "# Hints for Homework 3"
   ]
  },
  {
   "cell_type": "markdown",
   "id": "07ec38ae-c1c9-4312-a4ca-05b105e945b6",
   "metadata": {},
   "source": [
    "## Question 1"
   ]
  },
  {
   "cell_type": "markdown",
   "id": "496d435c-772a-4990-9997-17318e68a61f",
   "metadata": {},
   "source": [
    "**Problem**\n",
    "Suppose that our prior for $\\mu$ is $\\frac{2}{3} : \\frac{1}{3}$ mixture of $N(0,1)$ and $N(1,1)$ and that a single observation is made $x\\sim N(\\mu,1)$ and turns out to be equal to 2. What is the posterior probability that $\\mu>1$?"
   ]
  },
  {
   "cell_type": "markdown",
   "id": "4c152d82-7c3f-44d2-bc43-94420bf06709",
   "metadata": {},
   "source": [
    "One thing you need to remember is that when you have a mixture prior for a random variable, then its posterior is the mixture of the posteriors of the component densities. \n",
    "Namely, if  \n",
    "$f(\\mu) = \\alpha g(\\mu) + \\beta h(\\mu)$,  \n",
    "then  \n",
    "$f(\\mu | x) = \\alpha(x) g(\\mu |x) + \\beta(x) h(\\mu |x)$,  \n",
    "so this problem is about computing some pieces and putting them together.  "
   ]
  },
  {
   "cell_type": "markdown",
   "id": "95406110-c2e2-43dd-9b50-f7898d9e041e",
   "metadata": {},
   "source": [
    "If the prior follows a normal distribution, and the likelihood function is normal, then the posterior is normal:"
   ]
  },
  {
   "cell_type": "markdown",
   "id": "16be10a7-5065-4374-98f5-dca7b71fe5b4",
   "metadata": {},
   "source": [
    "|    |    |\n",
    ":-- | :--\n",
    "prior | $\\displaystyle \\mu \\sim N(m_0,s_0^2)$\n",
    "prior density function | $\\displaystyle f(\\mu)=\\frac{1}{\\sqrt{2\\pi}s_0}e^{-\\frac{(\\mu - m_0)^2}{2s^2_0}}$\n",
    "likelihood | $\\displaystyle x\\|\\mu \\sim N(\\mu,\\sigma^2)$\n",
    "likelihood density function | $\\displaystyle f(x\\|\\mu)=\\frac{1}{\\sqrt{2\\pi}\\sigma}e^{-\\frac{(x - \\mu)^2}{2\\sigma^2}}$\n",
    "posterior | $\\displaystyle \\mu\\| x \\sim N\\left( \\frac{m_0\\cdot\\sigma^2+x\\cdot s^2_0}{\\sigma^2 + s^2_0},\\frac{\\sigma^2 \\cdot s^2_0}{\\sigma^2+s^2_0}\\right)$\n",
    "posterior density function | $\\displaystyle f(\\mu\\|x)= \\frac{1}{\\sqrt{2\\pi}\\left( \\sqrt{\\frac{\\sigma^2 \\cdot s^2_0}{\\sigma^2+s^2_0}}\\right)}\\exp\\left(-\\frac{\\left( \\mu - \\frac{m_0\\cdot\\sigma^2+x\\cdot s^2_0}{\\sigma^2 + s^2_0} \\right)^2}{2 \\cdot \\frac{\\sigma^2 \\cdot s^2_0}{\\sigma^2+s^2_0}}\\right)$\n"
   ]
  },
  {
   "cell_type": "markdown",
   "id": "3b2cb5e7-3a49-4ef3-8cb3-596386d6e1e6",
   "metadata": {},
   "source": [
    "1. Find the posterior $g(\\mu |x=2)$ and $h(\\mu |x=2)$. Since $x=2$ is given, all you need is to find 4 numbers:"
   ]
  },
  {
   "cell_type": "markdown",
   "id": "b361ef64-979c-4b20-894f-b6ce0b5389f9",
   "metadata": {},
   "source": [
    "|    |    |\n",
    ":-- | :--\n",
    "prior | $\\displaystyle \\mu \\sim N(0,1^2)$\n",
    "likelihood | $\\displaystyle x\\|\\mu \\sim N(\\mu,1^2)$\n",
    "posterior | $\\mu \\| x=2 \\quad \\sim \\quad N(\\boxed{?_1},\\boxed{(?_2)^2})$\n",
    "posterior density function | $\\displaystyle g(\\mu\\| x=2)=\\frac{1}{\\sqrt{2\\pi}\\boxed{?_2}}e^{-\\frac{\\left(\\mu - \\boxed{?_1}\\right)^2}{2\\cdot \\boxed{(?_2)^2}}}$\n",
    "---\n",
    "|    |    |\n",
    ":-- | :--\n",
    "prior | $\\displaystyle \\mu \\sim N(1,1^2)$\n",
    "likelihood | $\\displaystyle x\\|\\mu \\sim N(\\mu,1^2)$\n",
    "posterior | $\\mu \\| x=2 \\quad \\sim \\quad N(\\boxed{?_3},\\boxed{(?_4)^2})$\n",
    "posterior density function | $\\displaystyle h(\\mu\\| x=2)=\\frac{1}{\\sqrt{2\\pi}\\boxed{?_4}}e^{-\\frac{\\left(\\mu - \\boxed{?_3}\\right)^2}{2\\cdot \\boxed{(?_4)^2}}}$"
   ]
  },
  {
   "cell_type": "markdown",
   "id": "b23b6728-3002-4e27-8e97-8d2e56c8416f",
   "metadata": {},
   "source": [
    "2. Once you find $g(\\mu \\|x=2)$ and $h(\\mu \\|x=2)$, now you'll need to find $\\alpha(2)$ and $\\beta(2)$, as \n",
    "\n",
    "  \n",
    "$f(\\mu | x=2) = \\alpha(2) N(\\boxed{?_1},\\boxed{(?_2)^2}) + \\beta(2) N(\\boxed{?_3},\\boxed{(?_4)^2})$"
   ]
  },
  {
   "cell_type": "markdown",
   "id": "180bc315-8a56-43b7-9115-0cd553da911b",
   "metadata": {},
   "source": [
    "While doing this part, you'll need to use the following identities:  \n",
    "- $\\alpha(2) + \\beta(2) =1$\n",
    "- $\\displaystyle \\frac{\\alpha(2)}{\\beta(2)} = \\frac{\\alpha \\int f(x|\\mu)g(\\mu)d\\mu}{\\beta \\int f(x|\\mu)h(\\mu)d\\mu}$, where $\\alpha = 2/3$ and $\\beta = 1/3$ are given."
   ]
  },
  {
   "cell_type": "markdown",
   "id": "233e8fb8-cd78-401e-8518-5f96971ccbf3",
   "metadata": {},
   "source": [
    "My suggestion is to write $f(x|\\mu)g(\\mu)$ (likelihood times prior $g$) and $f(x|\\mu)h(\\mu)$ (likelihood times prior $h$) and compute their the integrals. The trick when computing the integrals you'll most likely use is the following:  \n",
    "\n",
    "$\\displaystyle \\int \\frac{1}{\\sqrt{2\\pi}{\\blacksquare}}e^{-\\frac{\\left( \\mu - \\bigstar\\right)^2}{2\\blacksquare^2}} d \\mu =1$, no matter what the values of $\\blacksquare$ and $\\bigstar$ are.  \n",
    "\n",
    "So, when computing $f(x|\\mu)g(\\mu)$ and $f(x|\\mu)h(\\mu)$, combine the exponents, complete the square in the exponent of the form $(\\mu - \\bigstar)^2$ and the rest will be an expression in terms of $x$, which you can take out of an integral that is computed with respect to $d\\mu$."
   ]
  },
  {
   "cell_type": "markdown",
   "id": "a84dfb86-937d-47f8-bc39-3a4911dbfbbd",
   "metadata": {},
   "source": [
    "## Question 2"
   ]
  },
  {
   "cell_type": "markdown",
   "id": "9a234e8c-8072-421e-9a53-b29aab448743",
   "metadata": {},
   "source": [
    "**Problem**\n",
    "Suppose that your prior beliefs about the probability $p$ of success in Bernoulli trials have mean $\\frac{1}{3}$\n",
    "and variance $\\frac{1}{32}$. Give a $95\\%$ posterior HDR for $p$ given that you have observed 8 successes in 20 trials."
   ]
  },
  {
   "cell_type": "markdown",
   "id": "30e64bfc-5486-4943-be02-fb1a0f879647",
   "metadata": {},
   "source": [
    "Remember that $\\displaystyle E[Beta(\\alpha,\\beta)]=\\frac{\\alpha}{\\alpha+\\beta}$ and $\\displaystyle Var(Beta(\\alpha,\\beta))=\\frac{\\alpha\\beta}{(\\alpha+\\beta)^2(\\alpha+\\beta+1)}$.  \n",
    "So, you can figure out what $\\alpha$ and $\\beta$ are by solving the simpler equation $\\displaystyle E[Beta(\\alpha,\\beta)]=\\frac{\\alpha}{\\alpha+\\beta}=\\frac{1}{3}$ first, writing  $\\beta$ in terms of $\\alpha$ and then use $\\displaystyle Var(Beta(\\alpha,\\beta))=\\frac{\\alpha\\beta}{(\\alpha+\\beta)^2(\\alpha+\\beta+1)}=\\frac{1}{32}$.  \n",
    "Once you have $\\alpha$ and $\\beta$, you know the prior $Beta(\\alpha,\\beta)$. We also know how to get the posterior using the binomial likelihood function: $Beta\\left(\\alpha+\\textrm{\\# successes},\\beta +\\textrm{\\# failures}\\right)$."
   ]
  },
  {
   "cell_type": "markdown",
   "id": "b47e2721-3289-4613-856b-9801927de464",
   "metadata": {},
   "source": [
    "To find the Highest Density Region (HDR), you can do the following (I'll be using a random $\\alpha=5$ and $\\beta=10$ below)."
   ]
  },
  {
   "cell_type": "markdown",
   "id": "8b49a8a7-3d14-483d-80db-8a0fcf7f772a",
   "metadata": {},
   "source": [
    "### Way 1: Use a Beta Distribution calculator you find online"
   ]
  },
  {
   "cell_type": "markdown",
   "id": "2e73303f-1007-46bb-a39a-da74b419fda4",
   "metadata": {},
   "source": [
    "- Find a [Beta Distribution Calculator](https://homepage.divms.uiowa.edu/~mbognar/applets/beta.html).\n",
    "- Find the $x$ values by giving how much area you want to the left (or right) of a cut at $x$ under the probability density function:"
   ]
  },
  {
   "cell_type": "markdown",
   "id": "c520950a-b7a9-44db-bd1b-9ff7e7cb2acd",
   "metadata": {},
   "source": [
    "::::{grid} 1 1 2 2\n",
    ":::{card}\n",
    "```{image} ./assets/beta_1.png\n",
    ":alt: beta_1\n",
    ":width: 800px\n",
    ":align: center\n",
    "```\n",
    ":::\n",
    "\n",
    ":::{card}\n",
    "```{image} ./assets/beta_2.png\n",
    ":alt: beta_2\n",
    ":width: 800px\n",
    ":align: center\n",
    "```\n",
    ":::\n",
    "\n",
    "::::"
   ]
  },
  {
   "cell_type": "markdown",
   "id": "5fb513fe-b6a4-4f66-ae33-113b12571dfb",
   "metadata": {},
   "source": [
    "That gives the HDR $=(0.13,0.58)$."
   ]
  },
  {
   "cell_type": "markdown",
   "id": "d651eea4-5b22-48f1-bda0-feb60ea10aa3",
   "metadata": {},
   "source": [
    "This method works well for unimodel symmetric distributions. If the model is not symmetric (like the one we have here), it gives a rough estimation."
   ]
  },
  {
   "cell_type": "markdown",
   "id": "7569f6dd-4434-4aa5-a05e-111f9cb83a8d",
   "metadata": {},
   "source": [
    "### Way 3: Run a Numerical Simulation using Python"
   ]
  },
  {
   "cell_type": "markdown",
   "id": "9d77227e-8ac5-4bec-b41c-d76a35fcfca1",
   "metadata": {},
   "source": [
    "An easy way to find a highest density region is to run the following Python code in Google Colab (a numerical simulation):\n",
    "- Go to [Google Colab](https://colab.google/).\n",
    "- Open a new notebook (you may need to log in using a gmail account).\n",
    "- Paste the following code: Use the $\\alpha$ and $\\beta$ you found earlier (I used a random $\\alpha=5$ and $\\beta=10$ in the example code)."
   ]
  },
  {
   "cell_type": "code",
   "execution_count": 58,
   "id": "d22ab197-c562-4720-afe7-2ae4034d6852",
   "metadata": {},
   "outputs": [
    {
     "name": "stdout",
     "output_type": "stream",
     "text": [
      "HDI Interval: [0.11384647 0.56301252]\n"
     ]
    }
   ],
   "source": [
    "import pymc as pm\n",
    "import arviz as az\n",
    "from scipy.stats import beta\n",
    "\n",
    "# beta distribution parameters\n",
    "alpha_param = 5\n",
    "beta_param = 10\n",
    "\n",
    "# generate samples for the simulation\n",
    "samples = beta.rvs(alpha_param, beta_param, size=10000000)\n",
    "\n",
    "# compute the HDI interval by counting samples\n",
    "hdi_interval = az.hdi(samples, hdi_prob=0.95)\n",
    "\n",
    "print(\"HDI Interval:\", hdi_interval)"
   ]
  },
  {
   "cell_type": "markdown",
   "id": "f7da5916-90b2-4a21-adea-eb0fb0a700a6",
   "metadata": {},
   "source": [
    "And here's how to visualize it:"
   ]
  },
  {
   "cell_type": "code",
   "execution_count": 55,
   "id": "d35bba62-298c-4c09-b77e-094d5e9fdfd3",
   "metadata": {},
   "outputs": [
    {
     "data": {
      "image/png": "[encoded data removed]",
      "text/plain": [
       "<Figure size 600x400 with 1 Axes>"
      ]
     },
     "metadata": {},
     "output_type": "display_data"
    }
   ],
   "source": [
    "import numpy as np\n",
    "import matplotlib.pyplot as plt\n",
    "from scipy.stats import beta\n",
    "\n",
    "# beta distribution parameters\n",
    "alpha, beta_param = 5, 10\n",
    "\n",
    "# define the beta distribution\n",
    "dist = beta(alpha, beta_param)\n",
    "\n",
    "# generate values from the beta distribution\n",
    "x = np.linspace(0, 1, 1000)\n",
    "pdf = dist.pdf(x)\n",
    "\n",
    "# HDR boundaries (previously computed)\n",
    "hdr_lower, hdr_upper = 0.12082921, 0.55393566\n",
    "\n",
    "# plotting the probability density function\n",
    "plt.figure(figsize=(6, 4))\n",
    "plt.plot(x, pdf, label='Beta(5,10) pdf', color='blue')\n",
    "\n",
    "# color and label the HDR\n",
    "plt.fill_between(x, pdf, where=(x >= hdr_lower) & (x <= hdr_upper), color='gray', alpha=0.5, label='95% HDR')\n",
    "\n",
    "# add ticks to denote the HDR interval endpoints on the horizontal axis\n",
    "plt.xticks([hdr_lower, hdr_upper], [f'{hdr_lower:.2f}', f'{hdr_upper:.2f}'])\n",
    "\n",
    "plt.title('Highest Density Region of a Beta(5, 10) Distribution')\n",
    "plt.xlabel('x')\n",
    "plt.ylabel('Probability Density')\n",
    "plt.legend()\n",
    "plt.grid(True)\n",
    "plt.show()"
   ]
  },
  {
   "cell_type": "markdown",
   "id": "cf763fe0-b649-4e62-93f6-0d01da39e70c",
   "metadata": {},
   "source": [
    "## Question 3"
   ]
  },
  {
   "cell_type": "markdown",
   "id": "512edd0b-e050-4536-bb45-fbd800ef2a29",
   "metadata": {},
   "source": [
    "**Problem**\n",
    "Suppose that you have a prior distribution for the probability $p$ of success in a certain kind of gambling game which has mean 0.4, and that you regard your prior information as equivalent to 12 trials. You then play the game 25 times and win 12 times. What is your posterior distribution for $p$?"
   ]
  },
  {
   "cell_type": "markdown",
   "id": "36502b19-287c-43d0-a479-16d20f1331cf",
   "metadata": {},
   "source": [
    "This question is very similar to question 2.\n",
    "Instead of using $\\displaystyle E[Beta(\\alpha,\\beta)]=\\frac{\\alpha}{\\alpha+\\beta}$ and $\\displaystyle Var(Beta(\\alpha,\\beta))=\\frac{\\alpha\\beta}{(\\alpha+\\beta)^2(\\alpha+\\beta+1)}$, you will be using $\\displaystyle \\alpha+ \\beta = 12$ to find $\\alpha$ and $\\beta$ of the prior. Then you update the distribution using the binomial likelihood where $\\# \\textrm{successes} = 12$, $\\# \\textrm{failures} = 13$ ($\\textrm{total games} = 25$)."
   ]
  }
 ],
 "metadata": {
  "kernelspec": {
   "display_name": "bayes",
   "language": "python",
   "name": "bayes"
  },
  "language_info": {
   "codemirror_mode": {
    "name": "ipython",
    "version": 3
   },
   "file_extension": ".py",
   "mimetype": "text/x-python",
   "name": "python",
   "nbconvert_exporter": "python",
   "pygments_lexer": "ipython3",
   "version": "3.11.5"
  }
 },
 "nbformat": 4,
 "nbformat_minor": 5
}
