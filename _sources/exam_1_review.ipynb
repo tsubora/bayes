{
 "cells": [
  {
   "cell_type": "markdown",
   "id": "c5c631da-a594-4dba-8bc9-66ee8c57013d",
   "metadata": {
    "tags": [],
    "user_expressions": []
   },
   "source": [
    "# Exam 1 - Review"
   ]
  },
  {
   "cell_type": "markdown",
   "id": "7db13eb4-3bbf-4ddf-907a-396c11503e1e",
   "metadata": {
    "tags": [],
    "user_expressions": []
   },
   "source": [
    "The following is written by Gabriella Shalumov. I will add some remarks based on what we discussed in class, change a few things here and there and add some exercises."
   ]
  },
  {
   "cell_type": "markdown",
   "id": "35461da5-9f3b-492f-9b5c-06fca0037fa9",
   "metadata": {
    "tags": [],
    "user_expressions": []
   },
   "source": [
    "## Events and Bayes Theorem"
   ]
  },
  {
   "cell_type": "markdown",
   "id": "7fbd4c03-adae-4335-9b45-bee0d12d89e6",
   "metadata": {
    "tags": [],
    "user_expressions": []
   },
   "source": [
    "```{tip} What to know\n",
    "- Know how to compute probabilities if an experiment is described, and the outcomes are equally likely to occur:  \n",
    "1. $\\displaystyle P(E)=\\frac{n(\\textrm{outcomes you like})}{n(\\textrm{outcomes you can choose from})} = \\frac{n(E)}{n(\\Omega)}$  \n",
    "  \n",
    "2. $\\displaystyle P(E_1 \\cup E_2)=\\frac{n(\\textrm{outcomes you like})}{n(\\textrm{outcomes you can choose from})}=\\frac{n(\\textrm{outcomes in one event})+n(\\textrm{outcomes in the other event)} -n(\\textrm{outcomes that were counted twice})}{n(\\textrm{all outcomes you can choose from})}=\\frac{n(E_1)+n(E_2)-n(E_1E_2)}{n(\\Omega)}$     \n",
    "  \n",
    "    2'. *if the outcomes are not equally likely to occur:*   \n",
    "$P(E_1 \\cup E_2) =P(E_1)+P(E_2)-P(E_1E_2)$)\n",
    "\n",
    "\n",
    "3. $\\displaystyle P(E|F) = \\frac{n(\\textrm{outcomes you like})}{n(\\textrm{outcomes you can choose from})} = \\frac{n(EF)}{n(F)}$  \n",
    "  \n",
    "    3'. *if the outcomes are not equally likely to occur:*    \n",
    "$\\displaystyle P(E|F)=\\frac{P(EF)}{P(F)}$  \n",
    "\n",
    "- Know the axioms of probability in general:\n",
    "1. $P(E)\\geq 0$  \n",
    "2. $P(\\Omega)=1$  \n",
    "3. $P(E\\cup F)=P(E)+P(F)$, if $EF=\\emptyset$  \n",
    "4. $P(E|F)P(F)=P(EF)$ (which is equivalent of moving on a probability tree)\n",
    "\n",
    "- Know Bayes' theorem:  \n",
    "$\\displaystyle \\textrm{posterior}=\\frac{\\textrm{likelihood}\\cdot \\textrm{prior}}{\\textrm{marginal}}$  \n",
    "  \n",
    "    $\\displaystyle P(E|F)=\\frac{P(F|E)P(E)}{P(F)}$\n",
    "    \n",
    "- Know how to compute probabilities on contingency tables, know how to work with probability trees.  \n",
    "- Know what [independence of (multiple) events](https://math.stackexchange.com/questions/1081962/independent-probabilities-for-multiple-events) means.\n",
    "```"
   ]
  },
  {
   "cell_type": "markdown",
   "id": "3b35663c-2b2f-4616-b819-294f0f1df72e",
   "metadata": {
    "tags": [],
    "user_expressions": []
   },
   "source": [
    "## Discrete Random Variables"
   ]
  },
  {
   "cell_type": "markdown",
   "id": "25c5c209-8873-452d-9c47-4a34bc6439db",
   "metadata": {
    "tags": [],
    "user_expressions": []
   },
   "source": [
    "There are countably (possibly finitely many) outcomes. Each outcome is labeled by a number (by the random variable $X$). Therefore the labels are discrete. For each label (i.e. possible values of $X$), you can create a row in a probability distribution table, or its own bar in a histogram."
   ]
  },
  {
   "cell_type": "markdown",
   "id": "cc983ce7-59c0-4a9d-896f-762fa266678c",
   "metadata": {
    "tags": [],
    "user_expressions": []
   },
   "source": [
    "- $\\displaystyle E[X]=\\sum_k k\\cdot P(X=k)$  \n",
    "    - $\\displaystyle E[f(X)]=\\sum_k f(k)\\cdot P(X=k)$  \n",
    "    - $\\displaystyle E[X+Y]=E[X]+E[Y]$\n",
    "    - $\\displaystyle E[XY]=E[X]\\cdot E[Y]$, if $X$ and $Y$ are independent, where $X$ and $Y$ are independent if $P(X=k,Y=l)=P(X=k)\\cdot P(Y=l)$ for any $k,l$.  \n",
    "      (The converse is not true.)  \n",
    "      $Cov(X,Y)=E[XY]-E[X]E[Y]=E[X-E[X]]\\cdot E[Y-E[Y]]$ measures the degree two which the two variables change together. $Cov(X,Y)$ suggests there's no linear relationship between two variables, but doesn't necessarily mean two variables are independent (they may have a nonlinear relationship).\n",
    "- $\\displaystyle Var(X)=\\sum_k (k-E[X])^2\\cdot P(X=k)=E[X^2]-(E[X])^2$"
   ]
  },
  {
   "cell_type": "markdown",
   "id": "ff88359a-1f0c-48c5-92d9-8f88f37cd3a3",
   "metadata": {
    "tags": [],
    "user_expressions": []
   },
   "source": [
    "### Useful discrete distributions:"
   ]
  },
  {
   "cell_type": "markdown",
   "id": "0b89bcff-646d-43d4-8c65-be2f4505f2c9",
   "metadata": {
    "tags": [],
    "user_expressions": []
   },
   "source": [
    ":::{list-table} Some discrete probability distributions:\n",
    ":widths: auto\n",
    ":header-rows: 1\n",
    "\n",
    "*   - Name\n",
    "    - Experiment\n",
    "    - Random variable\n",
    "    - $P(X=k)$\n",
    "    - Expected value\n",
    "    - Variance\n",
    "    - Example\n",
    "*   - [Uniform](https://en.wikipedia.org/wiki/Discrete_uniform_distribution)\n",
    "    - Pick a random number from among $\\{1,2,3,\\dots,n\\}$\n",
    "    - $\\textrm{Unif}(n)=$ the number you picked\n",
    "    - $P(\\textrm{Unif}(n)=k)=\\frac{1}{n}$ for $k=1,2,\\dots,n$\n",
    "    - $E[\\textrm{Unif}(n)]=\\frac{1+n}{2}$ \n",
    "    - $Var(\\textrm{Unif}(n))=\\frac{n^2-1}{12}$\n",
    "    - Roll a die and look at the number on top.\n",
    "*   - [Bernoulli trial](https://en.wikipedia.org/wiki/Bernoulli_distribution)\n",
    "    - Toss a coin.\n",
    "    - $\\textrm{Bern}(p)=1$, for heads and $\\textrm{Bern}(p)=0$ for tails.\n",
    "    - $P(\\textrm{Bern}(p)=1)=p$, $P(\\textrm{Bern}(p)=0)=(1-p)$ for $k=0$ or $1$.\n",
    "    - $E[\\textrm{Bern}(p)]=p$\n",
    "    - $Var(\\textrm{Bern}(p))=p(1-p)$\n",
    "    - Is a single patient sick or not?\n",
    "*   - [Binomial random variable](https://en.wikipedia.org/wiki/Binomial_distribution)\n",
    "    - Repeat a Bernoulli trial $n$ times.\n",
    "    - $\\textrm{Binom}(n,p)=$ the number of heads you observe\n",
    "    - $P(\\textrm{Binom}(n,p)=k)={n \\choose k}p^k(1-p)^{n-k}$ for $k=0,1,\\dots,n$\n",
    "    - $E[\\textrm{Binom}(n,p)]=np$\n",
    "    - $Var(\\textrm{Binom}(n,p))=np(1-p)$\n",
    "    - Out of 100 patients, how many are sick?\n",
    "*   - [Geometric random variable](https://en.wikipedia.org/wiki/Geometric_distribution)\n",
    "    - Repeat Bernoulli trials until you get a heads.\n",
    "    - $\\textrm{Geom}(p)=$ number tosses you observe.\n",
    "    - $P(\\textrm{Geom}(p)=k)=(1-p)^{k-1}p$ for $k=1,2,3,\\dots$\n",
    "    - $E[\\textrm{Geom}(p)]=\\frac{1}{p}$\n",
    "    - $Var(\\textrm{Geom}(p))=\\frac{1-p}{p^2}$\n",
    "    - How many patients do you need to see until you find the first sick patient?\n",
    "*   - [Poisson random variable](https://en.wikipedia.org/wiki/Poisson_distribution)\n",
    "    - Consider a large number of Bernoulli trials, where the probability of success is relatively small such that the product $np=\\lambda$ is still a moderate number.\n",
    "    - $\\textrm{Pois}(\\lambda)=$ number of successes in those trials.\n",
    "    - $\\displaystyle P(X=k)=\\frac{e^{-\\lambda}\\lambda^k}{k!}$ for $k=0,1,2,\\dots$\n",
    "    - $E[\\textrm{Pois}(\\lambda)]=\\lambda$\n",
    "    - $Var(\\textrm{Pois}(\\lambda))=\\lambda$\n",
    "    - A large city hospital, on average, admits 10 patients with a specific rare disease every month. The number of admissions can vary from month to month, but over a long period, the average remains around 10 patients. How many patients will be admitted this month?\n",
    ":::"
   ]
  },
  {
   "cell_type": "markdown",
   "id": "e9e79d06-6f8b-473e-b875-21bb8552b305",
   "metadata": {},
   "source": []
  }
 ],
 "metadata": {
  "kernelspec": {
   "display_name": "Python 3 (ipykernel)",
   "language": "python",
   "name": "python3"
  },
  "language_info": {
   "codemirror_mode": {
    "name": "ipython",
    "version": 3
   },
   "file_extension": ".py",
   "mimetype": "text/x-python",
   "name": "python",
   "nbconvert_exporter": "python",
   "pygments_lexer": "ipython3",
   "version": "3.10.12"
  }
 },
 "nbformat": 4,
 "nbformat_minor": 5
}
