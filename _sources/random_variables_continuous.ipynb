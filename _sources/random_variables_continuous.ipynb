{
 "cells": [
  {
   "cell_type": "markdown",
   "id": "043f197a-1e8d-4900-98e8-fb9a45a8f71f",
   "metadata": {
    "tags": [],
    "user_expressions": []
   },
   "source": [
    "# Random Variables (Continuous) "
   ]
  },
  {
   "cell_type": "markdown",
   "id": "73a7d9f8-a503-4439-9d78-8b6c29d0b5b8",
   "metadata": {
    "tags": [],
    "user_expressions": []
   },
   "source": [
    "The passage from discrete to continous random variables is very similar to what you did when you learned calculus.  \n",
    "As a matter of fact, the reason we care about continuous random variables is that way we can use techniques from calculus.  \n",
    "So, you should think of continuous variables and their probability distributions as *ideal* models.  \n",
    "And if the difference between consecutive possible values of a discrete random variable is relatively very small to the range of the random variable, then these continuous models work very well.  "
   ]
  }
 ],
 "metadata": {
  "kernelspec": {
   "display_name": "bayes",
   "language": "python",
   "name": "bayes"
  },
  "language_info": {
   "codemirror_mode": {
    "name": "ipython",
    "version": 3
   },
   "file_extension": ".py",
   "mimetype": "text/x-python",
   "name": "python",
   "nbconvert_exporter": "python",
   "pygments_lexer": "ipython3",
   "version": "3.10.12"
  }
 },
 "nbformat": 4,
 "nbformat_minor": 5
}
