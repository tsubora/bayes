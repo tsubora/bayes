{
 "cells": [
  {
   "cell_type": "markdown",
   "id": "0f9a7be2-8392-41cb-bf05-a6fd0ab640dc",
   "metadata": {
    "execution": {
     "iopub.execute_input": "2023-09-19T00:58:43.208535Z",
     "iopub.status.busy": "2023-09-19T00:58:43.207160Z",
     "iopub.status.idle": "2023-09-19T00:58:43.224734Z",
     "shell.execute_reply": "2023-09-19T00:58:43.223241Z",
     "shell.execute_reply.started": "2023-09-19T00:58:43.208386Z"
    },
    "tags": [],
    "user_expressions": []
   },
   "source": [
    "# Random Variables"
   ]
  },
  {
   "cell_type": "markdown",
   "id": "d4beca10-8c32-4330-a92c-05162600298c",
   "metadata": {
    "tags": [],
    "user_expressions": []
   },
   "source": [
    "You can define a **random variable** $X$ to be a function from a sample space $\\Omega$ to the reals $\\mathbb{R}$. "
   ]
  },
  {
   "cell_type": "markdown",
   "id": "fa05dc94-da31-4c47-aa3a-7bb830920d69",
   "metadata": {
    "tags": [],
    "user_expressions": []
   },
   "source": [
    "```{note} Remark\n",
    "What I like to think of a *random variable* is a function from the events of a sample space to the reals, or in other words rewriting event names you're interested using numbers.\n",
    "```"
   ]
  },
  {
   "cell_type": "markdown",
   "id": "a13c2f50-c308-4e8b-b21e-c82668c85712",
   "metadata": {
    "user_expressions": []
   },
   "source": [
    "We tend to classify random variables in two classes: Discrete and Continuous."
   ]
  },
  {
   "cell_type": "markdown",
   "id": "cd5f5cc7-7568-4d53-aada-dd965d718058",
   "metadata": {
    "tags": [],
    "user_expressions": []
   },
   "source": [
    "```{image} ./assets/discr_cont.png\n",
    ":alt: disc_cont\n",
    ":width: 800px\n",
    ":align: center\n",
    "```"
   ]
  },
  {
   "cell_type": "markdown",
   "id": "1fdb2be8-0458-4319-a363-0ce01d1f93b8",
   "metadata": {
    "tags": [],
    "user_expressions": []
   },
   "source": [
    "What matters is that if we have a discrete random variable, we can count things (things may be infinite, but still listable), as there is a jump between each possible value of the random variable, and addition is the usual summation:"
   ]
  },
  {
   "cell_type": "markdown",
   "id": "fbc04eb3-fc35-4879-a8dd-041fff80ce39",
   "metadata": {
    "user_expressions": []
   },
   "source": [
    "$\\{5\\leq X<8\\} = \\{X=5.5\\} \\cup \\{X=6.3\\} \\cup \\{X=7.9\\}$"
   ]
  },
  {
   "cell_type": "markdown",
   "id": "e80975bd-f9e3-4a69-b1af-a737ece9d88c",
   "metadata": {
    "tags": [],
    "user_expressions": []
   },
   "source": [
    "When we have a continuous variable, we describe them mostly in terms of intervals and we trace outcomes in an event rather than counting the outcomes one by one. For most of the continuous random variables, we'll be able to use techniques of calculus. For example, addition becomes definite integrals."
   ]
  },
  {
   "cell_type": "markdown",
   "id": "3aa72e2e-6b35-4692-8962-23bf32ad0102",
   "metadata": {
    "user_expressions": []
   },
   "source": [
    "#### Baby example"
   ]
  },
  {
   "cell_type": "markdown",
   "id": "b97fe97a-48b3-4c74-a859-584cfee9f574",
   "metadata": {
    "tags": [],
    "user_expressions": []
   },
   "source": [
    "Toss a coin twice and label the outcomes by the number of heads.  \n",
    "Then our random variable $X$ takes the possible values $\\{0,1,2\\}$, where"
   ]
  },
  {
   "cell_type": "markdown",
   "id": "893d5b4e-13b5-4c3c-9d6a-808d2ade8356",
   "metadata": {
    "tags": [],
    "user_expressions": []
   },
   "source": [
    " $X=k$ | event \n",
    " --: | --: \n",
    " $X=0$ | $\\{TT\\}$ \n",
    " $X=1$ | $\\{HT,TH\\}$ \n",
    " $X=2$ | $\\{HH\\}$ "
   ]
  },
  {
   "cell_type": "markdown",
   "id": "f1570e92-314f-43ad-9942-56f583c41e03",
   "metadata": {
    "user_expressions": []
   },
   "source": [
    "Then probabilities can be assigned to those events. A **probability distribution** is a function that assigns a probabilities to events. In the context of discrete random variables, we call the probability distributions as **probability mass functions** and in the context of continuous random variables, we call the probability distributions as **probability density functions**."
   ]
  },
  {
   "cell_type": "markdown",
   "id": "4f0f7bba-dd4c-4a49-a054-89c3d366be1b",
   "metadata": {
    "user_expressions": []
   },
   "source": [
    "#### Back to baby example"
   ]
  },
  {
   "cell_type": "markdown",
   "id": "11692a51-0675-408d-9a85-2ba7935c905b",
   "metadata": {
    "tags": [],
    "user_expressions": []
   },
   "source": [
    "If a coin is assumed to be fair, then the probability mass function for the variable $X$ we defined above can be written as"
   ]
  },
  {
   "cell_type": "markdown",
   "id": "507dee59-55f0-4dab-a51d-774967746687",
   "metadata": {
    "tags": [],
    "user_expressions": []
   },
   "source": [
    "$P(X=0)=\\frac{1}{4}$, $P(X=1)=\\frac{1}{2}$ and $P(X=2)=\\frac{1}{4}$"
   ]
  },
  {
   "cell_type": "markdown",
   "id": "cc2c832d-0fc7-4a36-8d71-e69325269e6a",
   "metadata": {
    "tags": [],
    "user_expressions": []
   },
   "source": [
    "```{dropdown} Remark\n",
    "I think it's important to have a temporal/causal hieararchy:  \n",
    "- \"the chance experiment\" comes before \"knowing all possible outcomes\",\n",
    "- \"knowing all possible outcomes\" comes before \"grouping some outcomes and defining events\",\n",
    "- \"defining events\" comes before \"using numerical values as labels of events, i.e. defining a random variable\",\n",
    "- \"defining a random variable\" comes before \"assigning probabilities\""
   ]
  },
  {
   "cell_type": "markdown",
   "id": "45269e12-f0ca-49de-9169-a66181e0fa7a",
   "metadata": {
    "tags": [],
    "user_expressions": []
   },
   "source": [
    "We can use *histograms* to represent probability mass functions visually.  \n",
    "The histogram for our baby example looks like:"
   ]
  },
  {
   "cell_type": "markdown",
   "id": "9833b57d-021d-410a-b684-ac388a80c9e3",
   "metadata": {
    "tags": [],
    "user_expressions": []
   },
   "source": [
    "```{image} ./assets/pmf_baby_exm.png\n",
    ":alt: baby_pmf\n",
    ":width: 400px\n",
    ":align: center\n",
    "```"
   ]
  },
  {
   "cell_type": "markdown",
   "id": "26ae75cc-cf3f-43a4-b7ff-56dba891d425",
   "metadata": {
    "tags": [],
    "user_expressions": []
   },
   "source": [
    "## (Popular) Discrete Random Variables"
   ]
  },
  {
   "cell_type": "markdown",
   "id": "c4861832-2d2c-4a51-b4f9-00db3f278a68",
   "metadata": {
    "tags": [],
    "user_expressions": []
   },
   "source": [
    "You can find a quite comprehensive list of random variables and their probability distributions (both discrete and continuous) on this nice wikipedia page: <wiki:List_of_probability_distributions>.  \n",
    "A probability distribution is"
   ]
  },
  {
   "cell_type": "markdown",
   "id": "707fdfe5-a814-4b91-8df7-fb60985a2357",
   "metadata": {
    "user_expressions": []
   },
   "source": [
    "We'll be interested in a few common discrete random variables so that we can use them in future examples:"
   ]
  },
  {
   "cell_type": "markdown",
   "id": "b990d280-a8aa-4018-8243-b44dd5b10d5f",
   "metadata": {
    "tags": [],
    "user_expressions": []
   },
   "source": [
    "Name | Experiment | Random variable | $P(X=k)$\n",
    "--- | --- | --- | ---\n",
    "[Uniform](https://en.wikipedia.org/wiki/Discrete_uniform_distribution) | Pick a random number from among $\\{1,2,3,\\dots,n\\}$ | $X=$ the number you picked | $P(X=k)=\\frac{1}{n}$\n",
    "[Bernoulli trial](https://en.wikipedia.org/wiki/Bernoulli_distribution) | Toss a coin. |  $X=1$, for heads and $X=0$ for tails. | $P(X=1)=p$, $P(X=0)=(1-p)$\n",
    "[Binomial random variable](https://en.wikipedia.org/wiki/Binomial_distribution) | Repeat a Bernoulli trial $n$ times. | $X=$ the number of heads you observe | $P(X=k)={n \\choose k}p^k(1-p)^{n-k}$ \n",
    "[Geometric random variable](https://en.wikipedia.org/wiki/Geometric_distribution) | Repeat Bernoulli trials until you get a heads. | $X=$ number tosses you observe. | $P(X=k)=(1-p)^{k-1}p$"
   ]
  },
  {
   "cell_type": "markdown",
   "id": "79ffe40a-5f68-4c6d-9ea5-02bc8f570c55",
   "metadata": {
    "tags": [],
    "user_expressions": []
   },
   "source": [
    "```{dropdown} Remark\n",
    "One important thing we can check to make sure the probability mass functions are defined correctly is they need to add up to the probability of the sample space, which equals to one:  \n",
    "- (Discrete) uniform distribution: $\\sum_{k=1}^n P(X=k)=\\sum_{k=1}^n \\frac{1}{n}=n\\cdot \\frac{1}{n}=1$.\n",
    "- Bernoulli distribution: $\\sum_{k=0}^1 P(X=k) = p + (1-p) = 1$.\n",
    "- Binomial distribution: $\\sum_{k=1}^n P(X=k) = \\sum_{k=1}^n {n \\choose k}p^k(1-p)^{n-k}=1$ (exc.)\n",
    "- Geometric distribution: $\\sum_{k=1}^{\\infty} P(X=k) = \\sum_{k=1}^{\\infty} (1-p)^{k-1}p = p\\sum_{k=1}^{\\infty} (1-p)^{k-1} = p\\sum_{k=0}^{\\infty}(1-p)^k=p\\cdot \\frac{1}{1-(1-p)}=1$ (some calc 2 is happening here!)\n",
    "```"
   ]
  },
  {
   "cell_type": "markdown",
   "id": "04e9c7bd-633c-4731-b61e-d2769d5864c1",
   "metadata": {
    "user_expressions": []
   },
   "source": [
    "Once we have a random variable and its probability mass/density function, we can compute some scalars that summarize some important aspects of our random variable.  \n",
    "Two of them are then to be very significant: The expected value and the variance of the random variable."
   ]
  },
  {
   "cell_type": "markdown",
   "id": "5e3f4a81-e95e-49c2-89bb-35b8c514aeb4",
   "metadata": {
    "user_expressions": []
   },
   "source": [
    "## Expected Value of a (Discrete) Random Variable"
   ]
  },
  {
   "cell_type": "markdown",
   "id": "66a9f3e5-23f6-4fe9-9017-770088086e23",
   "metadata": {
    "user_expressions": []
   },
   "source": [
    "The **expected value** (or **mean**) of a random variable $X$ is defined to be as a weighted sum.  \n",
    "Each possible value of the random variable gets to have its probability as its weight:"
   ]
  },
  {
   "cell_type": "markdown",
   "id": "c69ba400-3f23-4086-9055-f6386d8453f6",
   "metadata": {
    "user_expressions": []
   },
   "source": [
    "$$E[X] = \\sum_{k} k\\cdot P(X=k)$$"
   ]
  },
  {
   "cell_type": "markdown",
   "id": "0cb84ff8-643d-432f-b366-1cb07aa0b534",
   "metadata": {
    "user_expressions": []
   },
   "source": [
    "#### Back to baby example"
   ]
  },
  {
   "cell_type": "markdown",
   "id": "2aa5f6e1-7a24-4923-8ef7-2b38dd1c7c96",
   "metadata": {
    "user_expressions": []
   },
   "source": [
    "If we have a fair coin ($p=\\frac{1}{2}$), then the expected value of the variable $X$ in our baby example becomes:"
   ]
  },
  {
   "cell_type": "markdown",
   "id": "4b03b3e4-7534-4a7f-ac09-c7588a7c83d1",
   "metadata": {
    "user_expressions": []
   },
   "source": [
    "$$\n",
    "    \\begin{aligned}\n",
    "    E[X] & = \\sum_{k} k\\cdot P(X=k) \\\\\n",
    "         & = 0\\cdot P(X=0) + 1\\cdot P(X=1) + 2\\cdot P(X=2) \\\\\n",
    "         & = 0\\cdot \\frac{1}{4} + 1\\cdot \\frac{1}{2} + 2\\cdot \\frac{1}{4} \\\\\n",
    "         & = 1\n",
    "    \\end{aligned}\n",
    "\n",
    "$$"
   ]
  },
  {
   "cell_type": "markdown",
   "id": "e7b87e99-9beb-40ea-a272-2af6be6665ec",
   "metadata": {
    "user_expressions": []
   },
   "source": [
    "What this computation gives us is that if we toss a fair coin twice, we expect to see 1 heads on average.  "
   ]
  },
  {
   "cell_type": "markdown",
   "id": "a2e7b92b-3f19-405a-ad76-a7692960002b",
   "metadata": {
    "user_expressions": []
   },
   "source": [
    "```{note} Remark\n",
    "I find the geometric interpretation of the expected value very illuminating:\n",
    "```"
   ]
  },
  {
   "cell_type": "markdown",
   "id": "7b84c7c3-95b0-4826-a49c-3df6e388ca01",
   "metadata": {
    "user_expressions": []
   },
   "source": [
    "---"
   ]
  },
  {
   "cell_type": "markdown",
   "id": "04ca3de4-8b9c-49dd-a04a-f25fe0e0eb7a",
   "metadata": {
    "tags": [],
    "user_expressions": []
   },
   "source": [
    "```{dropdown} Python\n",
    "I will try to draw make the visualizations using `Python` (maybe later I can add the `R` versions, or even better, you can send the `R` versions in the Telegram group chat and we'd have better notes.)  \n",
    "You can ignore the Python code for the moment or try to figure out how it works. More important are the graphs.\n",
    "```"
   ]
  },
  {
   "cell_type": "markdown",
   "id": "3bbfc0cf-7c7e-45e5-a4da-99bbb6293e0e",
   "metadata": {
    "user_expressions": []
   },
   "source": [
    "---"
   ]
  },
  {
   "cell_type": "code",
   "execution_count": 27,
   "id": "068edfcc-188d-42bc-9be2-117240224ef9",
   "metadata": {
    "execution": {
     "iopub.execute_input": "2023-09-21T10:36:26.446965Z",
     "iopub.status.busy": "2023-09-21T10:36:26.446221Z",
     "iopub.status.idle": "2023-09-21T10:36:26.589735Z",
     "shell.execute_reply": "2023-09-21T10:36:26.589041Z",
     "shell.execute_reply.started": "2023-09-21T10:36:26.446883Z"
    },
    "jupyter": {
     "source_hidden": true
    },
    "tags": []
   },
   "outputs": [
    {
     "data": {
      "image/png": "[encoded data removed]",
      "text/plain": [
       "<Figure size 500x400 with 1 Axes>"
      ]
     },
     "metadata": {},
     "output_type": "display_data"
    }
   ],
   "source": [
    "# import the necessary packages to compute and visualize in python\n",
    "import numpy as np\n",
    "import matplotlib.pyplot as plt\n",
    "import seaborn as sns\n",
    "\n",
    "# parameters for the binomial distribution\n",
    "n = 10\n",
    "p = 0.7\n",
    "\n",
    "# generate binomial distribution\n",
    "data = np.random.binomial(n, p, 10000)\n",
    "\n",
    "# plot histogram using seaborn\n",
    "plt.figure(figsize=(5, 4))\n",
    "sns.histplot(data, \n",
    "             bins=np.arange(-0.5, n+1.5, 1), \n",
    "             kde=False, stat='probability', \n",
    "             color='skyblue', \n",
    "             edgecolor='black')\n",
    "\n",
    "# calculate expected value E[X] = np\n",
    "expected_value = n * p\n",
    "\n",
    "# add a triangle and label it by E[X]\n",
    "plt.plot(expected_value, -0.01, marker='^', markersize=10, color='black')\n",
    "plt.text(expected_value, -0.04, '$E[X]$', ha='center', va='center')\n",
    "\n",
    "# cleaning the graph, we don't need the numbers\n",
    "plt.ylim(-0.1, 0.4)  \n",
    "plt.tick_params(left=False, bottom=True, labelleft=False, labelbottom=True)\n",
    "sns.despine(left=True, bottom=False)\n",
    "\n",
    "plt.show()"
   ]
  },
  {
   "cell_type": "markdown",
   "id": "244767a9-69be-4f2e-b8df-c5fd7b6dd36f",
   "metadata": {
    "user_expressions": []
   },
   "source": [
    "The expected value is a horizontal value on the histogram of a random variable such that the histogram stays on balance and won't tilt (clockwise or counterclockwise) if you put a pivot right at $E[X]$.  \n",
    "\n",
    "```{dropdown} (General Culture: Moments of a distribution)\n",
    "If you remember some basic physics of mechanics, you'd see that the computation of $E[X]$ looks like a moment computation.\n",
    "Expected value is the first moment of a distribution. For more about moments of a distribution (optional for us): [Moment](https://en.wikipedia.org/wiki/Moment_(mathematics)).\n",
    "Also a quick remark, the zeroth moment is always 1 for a probability distribution, the second moment after centralizing is the variance etc.\n",
    "```"
   ]
  },
  {
   "cell_type": "markdown",
   "id": "91a6e351-c878-495d-8448-5b5066650788",
   "metadata": {
    "user_expressions": []
   },
   "source": [
    "You can think of removing the locations of the horizontal values on a distribution via some other function $f$.  \n",
    "For example $f(k)=2k+1$ would move the original values of the random variable the following way: stretches away from horizontal middle by 2 and then shifts to right by 1."
   ]
  },
  {
   "cell_type": "code",
   "execution_count": 26,
   "id": "728d3f88-7f0f-45dc-b877-8e13dda01368",
   "metadata": {
    "execution": {
     "iopub.execute_input": "2023-09-21T10:36:16.053199Z",
     "iopub.status.busy": "2023-09-21T10:36:16.052314Z",
     "iopub.status.idle": "2023-09-21T10:36:16.277259Z",
     "shell.execute_reply": "2023-09-21T10:36:16.276451Z",
     "shell.execute_reply.started": "2023-09-21T10:36:16.053158Z"
    },
    "jupyter": {
     "source_hidden": true
    },
    "tags": []
   },
   "outputs": [
    {
     "data": {
      "image/png": "[encoded data removed]",
      "text/plain": [
       "<Figure size 1000x400 with 1 Axes>"
      ]
     },
     "metadata": {},
     "output_type": "display_data"
    }
   ],
   "source": [
    "# import the necessary packages to compute and visualize in python\n",
    "import numpy as np\n",
    "import matplotlib.pyplot as plt\n",
    "import seaborn as sns\n",
    "\n",
    "# parameters for the binomial distribution\n",
    "n = 10\n",
    "p = 0.7\n",
    "\n",
    "# generate binomial distribution\n",
    "data = 2*np.random.binomial(n, p, 10000)+1\n",
    "\n",
    "# plot histogram using seaborn\n",
    "plt.figure(figsize=(10, 4))\n",
    "sns.histplot(data, \n",
    "             bins=np.arange(-0.5, 2*n+2.5, 1), \n",
    "             kde=False, stat='probability', \n",
    "             color='skyblue', \n",
    "             edgecolor='black')\n",
    "\n",
    "# calculate expected value E[X] = np\n",
    "expected_value = 2*n * p+1\n",
    "\n",
    "# add a triangle and label it by E[X]\n",
    "plt.plot(expected_value, -0.01, marker='^', markersize=10, color='black')\n",
    "plt.text(expected_value, -0.04, '$E[f(X)] = E[2X+1]$', ha='center', va='center')\n",
    "\n",
    "# cleaning the graph, we don't need the numbers\n",
    "plt.ylim(-0.1, 0.4)  \n",
    "plt.tick_params(left=False, bottom=True, labelleft=False, labelbottom=True)\n",
    "sns.despine(left=True, bottom=False)\n",
    "\n",
    "plt.show()"
   ]
  },
  {
   "cell_type": "markdown",
   "id": "ef325abc-62cc-44cc-91b7-2265b764f476",
   "metadata": {
    "tags": [],
    "user_expressions": []
   },
   "source": [
    "Note that all that happening is, the same events are now labeled by different numbers.  The events stay the same, hence their probabilities stay the same. The only thing that changes is how we labeled them.  \n",
    "So, based on precalculus ideas, we have the following definition:  "
   ]
  },
  {
   "cell_type": "markdown",
   "id": "4a3790d0-ecd6-4de6-9ce6-6806f06b478e",
   "metadata": {
    "tags": [],
    "user_expressions": []
   },
   "source": [
    "$$E[f(X)]=\\sum_{k}f(k)\\cdot P(X=k)$$"
   ]
  },
  {
   "cell_type": "markdown",
   "id": "d065351e-9363-472f-aed3-4414b3a2d1d6",
   "metadata": {
    "tags": [],
    "user_expressions": []
   },
   "source": [
    "We call this the expected value of the function $f$."
   ]
  },
  {
   "cell_type": "markdown",
   "id": "89fb2175-968e-40b1-9cfb-692c9d79367a",
   "metadata": {
    "tags": [],
    "user_expressions": []
   },
   "source": [
    "Hence using a geometric argument using the transformation of the horizontal axis, or using the algebraic definition of the expected value of a function, we can easily prove the following property:"
   ]
  },
  {
   "cell_type": "markdown",
   "id": "3e6a5fd8-0191-4b34-a069-4bbc8c319dab",
   "metadata": {
    "tags": [],
    "user_expressions": []
   },
   "source": [
    "$$E[aX+bY]=aE[X]+bE[Y]$$\n"
   ]
  },
  {
   "cell_type": "markdown",
   "id": "0a94fb25-4d12-46e0-8cb8-bf17252406ff",
   "metadata": {
    "user_expressions": []
   },
   "source": [
    "However, expected values are not multiplicative, i.e. $E[XY]\\neq E[X]E[Y]$, unless the random variables $X$ and $Y$ are independent."
   ]
  },
  {
   "cell_type": "markdown",
   "id": "51cefb78-53f9-4e84-8e6c-387edd3d99ab",
   "metadata": {
    "user_expressions": []
   },
   "source": [
    " Two (discrete) random variables $X$ and $Y$ are independent if "
   ]
  },
  {
   "cell_type": "markdown",
   "id": "11e06b1a-afd0-4a95-93e6-f608dfd060e4",
   "metadata": {
    "user_expressions": []
   },
   "source": [
    "$$P(X=k,Y=l)=P(X=k)\\cdot P(Y=l)$$"
   ]
  },
  {
   "cell_type": "markdown",
   "id": "f713825a-edc4-4352-a804-1431642bf1ca",
   "metadata": {
    "user_expressions": []
   },
   "source": [
    "for any $k,l$, where $P(X=k, Y=l)$ denotes the intersection event of the events $X=k$ and $Y=l$."
   ]
  },
  {
   "cell_type": "markdown",
   "id": "5d565a56-788e-4126-b9af-aa9a2895185b",
   "metadata": {
    "user_expressions": []
   },
   "source": [
    "```{dropdown} Another baby example\n",
    "Toss a coin twice.  \n",
    "- Let $X:=$ the number of heads (0, 1, or 2) in two tosses.  \n",
    "Let $Y=1$ if the second toss is heads, and zero otherwise.  \n",
    "Then $X$ and $Y$ are dependent.\n",
    "\n",
    "- Let $X:=$ if the first toss is tails, and zero otherwise.  \n",
    "Let $Y=1$ if the second toss is heads, and zero otherwise.  \n",
    "Then $X$ and $Y$ are independent.\n",
    "```\n"
   ]
  },
  {
   "cell_type": "markdown",
   "id": "96c2c00c-86e3-4b48-a412-1dac5d53b49f",
   "metadata": {
    "user_expressions": []
   },
   "source": [
    "If two random variables are independent, then we have: $E[XY]=E[X]\\cdot E[Y]$"
   ]
  },
  {
   "cell_type": "markdown",
   "id": "98064687-f6f1-4829-a627-e1248ebf08ed",
   "metadata": {
    "tags": [],
    "user_expressions": []
   },
   "source": [
    "The difference $E[XY]-E[X]E[Y]$ is called covariance of $X$ and $Y$, and the covariance of two independent random variables is zero if the variables are independent:"
   ]
  },
  {
   "cell_type": "markdown",
   "id": "8751bd46-5f46-4ea0-8adc-8c67052e2fae",
   "metadata": {
    "tags": [],
    "user_expressions": []
   },
   "source": [
    "```{dropdown} Proof\n",
    "$$\n",
    "    \\begin{align*}\n",
    "        E[XY] & =\\sum_{k,l} k\\cdot l\\cdot P(XY=kl) \\\\\n",
    "              & \\stackrel{\\textrm{always}}{=}\\sum_{k}\\sum_{l} k\\cdot l \\cdot P(X=k,Y=l) \\\\\n",
    "              & \\stackrel{\\textrm{independence}}{=}\\sum_{k}\\sum_{l} k\\cdot l\\cdot P(X=k)P(Y=l) \\\\ \n",
    "              & = \\sum_{k}k\\left(\\sum_{l} l\\cdot P(Y=l)\\right)P(X=k) \\\\\n",
    "              & =\\sum_{k}k\\left(E[Y]\\right)P(X=k) \\\\\n",
    "              & =E[Y]\\sum_{k}k\\cdot P(X=k), \\textrm{ as $E[Y]$ is just a constant, and doesn't depend on $k$,} \\\\\n",
    "              & = E[Y]E[X]\n",
    "    \\end{align*}\n",
    "$$\n",
    "```"
   ]
  },
  {
   "cell_type": "markdown",
   "id": "761a04ff-3761-4120-8b8a-149667828c4e",
   "metadata": {
    "tags": [],
    "user_expressions": []
   },
   "source": [
    "However, the converse is not true:  \n",
    "If $Cov(X,Y)\\stackrel{def}{=}E[XY]-E[X]E[Y]$, $X$ and $Y$ be still dependent."
   ]
  },
  {
   "cell_type": "markdown",
   "id": "c978a078-cb4a-45f2-b95d-13c5d57ea8e0",
   "metadata": {
    "tags": [],
    "user_expressions": []
   },
   "source": [
    "```{dropdown} Counterexample\n",
    "Let $P(X=1)=P(X=-1)=0.3$ and $P(X=2)=P(X=-2)=0.2$. Note the since the probability mass function of $X$ is symmetric, $E[X]=0$ (exc.: or compute by hand).  \n",
    "Let $Y=X^2$. Then $E[Y]=1\\cdot 0.6 + 4\\cdot 0.4=2.2 >0$.  \n",
    "Note that $X$ and $Y$ are not independent random variables, as for example $P(X=1,Y=1)=0.3 \\neq 0.3 \\cdot 0.6 = P(X=1)\\cdot P(Y=1)$, as $X=1$ is a subset of $Y=1$.  \n",
    "However, $E[XY]=E[X^3]=0=0\\cdot 2.2 = E[X]E[Y]$, since $X^3$ is again a symmetric discrete random variable (exc.: or compute by hand).\n",
    "```"
   ]
  },
  {
   "cell_type": "markdown",
   "id": "3828ddad-0c10-4a32-908c-16c38d677e1d",
   "metadata": {
    "tags": [],
    "user_expressions": []
   },
   "source": [
    "### Conditional expectance"
   ]
  },
  {
   "cell_type": "markdown",
   "id": "283e7193-fc9d-4755-9c03-22fd2196819b",
   "metadata": {
    "tags": [],
    "user_expressions": []
   },
   "source": [
    "A very useful idea is the **[law of total expectation](https://en.wikipedia.org/wiki/Law_of_total_expectation)**:"
   ]
  },
  {
   "cell_type": "markdown",
   "id": "ffcbd3d5-724d-4f9b-befb-3111ce9dded9",
   "metadata": {
    "tags": [],
    "user_expressions": []
   },
   "source": [
    "$$ E[X]=E[E[X|Y=l]] $$"
   ]
  },
  {
   "cell_type": "markdown",
   "id": "d165f8af-a0af-46f5-a46d-6a928a436588",
   "metadata": {
    "tags": [],
    "user_expressions": []
   },
   "source": [
    "#### Example (law of total expectation)"
   ]
  },
  {
   "cell_type": "markdown",
   "id": "6e9dd4e0-622e-4511-bf2b-6928a31efba7",
   "metadata": {
    "tags": [],
    "user_expressions": []
   },
   "source": [
    "Assume we have three coins with probability of getting heads 0.2, 0.5 and 0.7, respectively.  \n",
    "The experiment consists of \n",
    "- picking a coin with $P(Y=1)=0.3$, $P(Y=2)=0.5$, $P(Y=3)=0.2$, where $Y$ denotes the coin number,  \n",
    "- and tossing the coin twice.  \n",
    "\n",
    "Let $X$ is defined to be the number of heads observed."
   ]
  },
  {
   "cell_type": "markdown",
   "id": "9fc1ba2d-6aaa-403c-9437-3a0bd30fae6e",
   "metadata": {
    "tags": [],
    "user_expressions": []
   },
   "source": [
    "```{image} ./assets/law_of_total_E.png\n",
    ":alt: total_law\n",
    ":width: 600px\n",
    ":align: center\n",
    "```"
   ]
  },
  {
   "cell_type": "markdown",
   "id": "7e2a4bec-fe99-4b3b-b62c-a24acb702a55",
   "metadata": {
    "tags": [],
    "user_expressions": []
   },
   "source": [
    "$$\n",
    "    \\begin{align*}\n",
    "    E[X] & = E[E[X|Y=l]] \\\\\n",
    "         & = E[2p_i] \\\\\n",
    "         & = 0.3 \\cdot (2\\cdot 0.2) + 0.5 \\cdot (2 \\cdot 0.5) + 0.2\\cdot (2\\cdot 0.7) \\\\\n",
    "         & = 0.9\n",
    "    \\end{align*}\n",
    "$$"
   ]
  }
 ],
 "metadata": {
  "kernelspec": {
   "display_name": "bayes",
   "language": "python",
   "name": "bayes"
  },
  "language_info": {
   "codemirror_mode": {
    "name": "ipython",
    "version": 3
   },
   "file_extension": ".py",
   "mimetype": "text/x-python",
   "name": "python",
   "nbconvert_exporter": "python",
   "pygments_lexer": "ipython3",
   "version": "3.10.12"
  }
 },
 "nbformat": 4,
 "nbformat_minor": 5
}
